{
 "cells": [
  {
   "cell_type": "code",
   "execution_count": 3,
   "metadata": {},
   "outputs": [
    {
     "name": "stdout",
     "output_type": "stream",
     "text": [
      "Collecting splinter\n",
      "  Downloading https://files.pythonhosted.org/packages/84/c3/92bc03fb0e9314c5d08398527464cf1dc3379464982912e5d17c7b8d46e3/splinter-0.9.0.tar.gz\n",
      "Collecting selenium>=3.14.0 (from splinter)\n",
      "  Downloading https://files.pythonhosted.org/packages/b8/53/9cafbb616d20c7624ff31bcabd82e5cc9823206267664e68aa8acdde4629/selenium-3.14.0-py2.py3-none-any.whl (898kB)\n",
      "Requirement already satisfied: urllib3 in c:\\users\\user\\anaconda3\\lib\\site-packages (from selenium>=3.14.0->splinter) (1.22)\n",
      "Building wheels for collected packages: splinter\n",
      "  Running setup.py bdist_wheel for splinter: started\n",
      "  Running setup.py bdist_wheel for splinter: finished with status 'done'\n",
      "  Stored in directory: C:\\Users\\user\\AppData\\Local\\pip\\Cache\\wheels\\e6\\59\\c0\\3f8d890b28fdc1699ef8e32f367d708db21b9f7da690d5ea02\n",
      "Successfully built splinter\n",
      "Installing collected packages: selenium, splinter\n",
      "Successfully installed selenium-3.14.0 splinter-0.9.0\n"
     ]
    },
    {
     "name": "stderr",
     "output_type": "stream",
     "text": [
      "distributed 1.21.8 requires msgpack, which is not installed.\n",
      "You are using pip version 10.0.1, however version 18.0 is available.\n",
      "You should consider upgrading via the 'python -m pip install --upgrade pip' command.\n"
     ]
    }
   ],
   "source": [
    "!pip install splinter"
   ]
  },
  {
   "cell_type": "code",
   "execution_count": 4,
   "metadata": {},
   "outputs": [],
   "source": [
    "from splinter import Browser\n",
    "from bs4 import BeautifulSoup\n",
    "import pandas as pd\n",
    "\n",
    "def init_browser():\n",
    "    # @NOTE: Replace the path with your actual path to the chromedriver\n",
    "    executable_path = {\"executable_path\": \"chromedriver.exe\"}\n",
    "    return Browser(\"chrome\", **executable_path, headless=False)\n",
    "\n",
    "\n",
    "def scrape():\n",
    "    browser = init_browser()\n",
    "    marsdata = {}\n",
    "    # 1-NASA Mars News\n",
    "    url = \"https://mars.nasa.gov/news/?page=0&per_page=40&order=publish_date+desc%2Ccreated_at+desc&search=&category=19%2C165%2C184%2C204&blank_scope=Latest\"\n",
    "    browser.visit(url)\n",
    "    html = browser.html\n",
    "    soup = BeautifulSoup(html, \"html.parser\")\n",
    "    # Extract the lastest title and its article teaser on the NASA Mars News\n",
    "    news_title = soup.find('div', class_='content_title').text.strip()\n",
    "    news_p = soup.find('div',class_='article_teaser_body').text.strip()\n",
    "    linknews = \"https://mars.nasa.gov/\" + soup.find('div', class_='content_title')('a')[0][\"href\"]\n",
    "    marsdata[\"newstitle\"] =news_title\n",
    "    marsdata[\"newscontenteaser\"] = news_p\n",
    "    marsdata[\"linknews\"]=linknews\n",
    "\n",
    "    # 2- JPL Mars Space Images - Featured Image\n",
    "    url_image = \"https://www.jpl.nasa.gov/spaceimages/?search=&category=Mars\"\n",
    "    browser.visit(url_image)\n",
    "    html = browser.html\n",
    "    soup = BeautifulSoup(html, \"html.parser\")\n",
    "    imagelink = soup.find('ul', class_='articles')('li',class_= \"slide\")[0]('a',class_=\"fancybox\")[0][\"data-fancybox-href\"]\n",
    "    imagefullink = \"https://www.jpl.nasa.gov\" + imagelink\n",
    "    marsdata[\"Marslatestimagelink\"] = imagefullink\n",
    "\n",
    "    # 3- Mars Weather\n",
    "    url_weather = \"https://twitter.com/marswxreport?lang=en\"\n",
    "    browser.visit(url_weather)\n",
    "    html = browser.html\n",
    "    soup = BeautifulSoup(html, \"html.parser\")\n",
    "    \n",
    "    #Since all tweets will be quote stored in li tags with class_=\"js-stream-item stream-item stream-item '\")\n",
    "    weathercheck = soup.find_all('li',class_='js-stream-item stream-item stream-item ')\n",
    "    check = \"\"\n",
    "    for weather in weathercheck:\n",
    "    #But just tweet from original Mars Weather using the class: tweet js-stream-tweet js-actionable-tweet js-profile-popup-actionable dismissible-content original-tweet js-original-tweet \n",
    "        if (weather('div',class_=\"tweet js-stream-tweet js-actionable-tweet js-profile-popup-actionable dismissible-content original-tweet js-original-tweet \")):\n",
    "            check = weather('div',class_=\"tweet js-stream-tweet js-actionable-tweet js-profile-popup-actionable dismissible-content original-tweet js-original-tweet \")\n",
    "            #This condition is redundant but to make sure tweet is from MARS WEATHER and for weather data by every single tweet frm Mars Weather will be displayed \"MarsWxReport\"\n",
    "            if (check[0][\"data-screen-name\"] == \"MarsWxReport\"):\n",
    "                #After find the first one with above conditions then assign as lastest tweet\n",
    "                break\n",
    "    #Slice weather data of that lastest tweet \n",
    "    mars_weather = check[0]('div',class_=\"js-tweet-text-container\")[0]('p',class_=\"TweetTextSize TweetTextSize--normal js-tweet-text tweet-text\")[0].text\n",
    "    marsdata[\"weatherinfo\"] = mars_weather\n",
    "\n",
    "    # 4- Mars Facts\n",
    "    urlmarsfacts = 'https://space-facts.com/mars/'\n",
    "    table = pd.read_html(urlmarsfacts)\n",
    "    dfmars=table[0]\n",
    "    dfmars.columns=['Description','Value']\n",
    "    dfmars.set_index('Description',inplace= True)\n",
    "    html_tablemarsfacts = dfmars.to_html()\n",
    "    html_tablemarsfacts = html_tablemarsfacts.replace('\\n', '')\n",
    "    marsdata[\"marsfact\"] = html_tablemarsfacts\n",
    "\n",
    "    # 5- Mars Hemispheres\n",
    "    urlHemispheres = 'https://astrogeology.usgs.gov/search/results?q=hemisphere+enhanced&k1=target&v1=Mars'\n",
    "    browser.visit(urlHemispheres)\n",
    "    html = browser.html\n",
    "    soup = BeautifulSoup(html, 'html.parser')\n",
    "    #Find the links\n",
    "    links = soup.find_all('div',class_=\"item\")\n",
    "    link = []\n",
    "    for lnk in links:\n",
    "        link.append(\"https://astrogeology.usgs.gov\" + lnk('a',class_=\"itemLink product-item\")[0][\"href\"])\n",
    "    \n",
    "    hemisphere_image_urls=[]\n",
    "    for detail in link:\n",
    "        title = \"\"\n",
    "        img_url=\"\"\n",
    "        listitem={\"title\":\"\",\"img_url\":\"\"}\n",
    "        browser.visit(detail)\n",
    "        html = browser.html\n",
    "        soup = BeautifulSoup(html, 'html.parser')\n",
    "        title = soup('h2',class_=\"title\")[0].text\n",
    "        img_url= soup('div',class_=\"wide-image-wrapper\")[0]('a')[0][\"href\"]\n",
    "        listitem[\"title\"] = title\n",
    "        listitem[\"img_url\"]=img_url\n",
    "        hemisphere_image_urls.append(listitem)\n",
    "    marsdata[\"link\"] = link\n",
    "    marsdata[\"marshemisphereimage\"] = hemisphere_image_urls\n",
    "\n",
    "    return marsdata"
   ]
  },
  {
   "cell_type": "code",
   "execution_count": 5,
   "metadata": {},
   "outputs": [
    {
     "data": {
      "text/plain": [
       "{'newstitle': 'Martian Skies Clearing over Opportunity Rover',\n",
       " 'newscontenteaser': 'Clearing skies allow Opportunity rover engineers to plan for the future.',\n",
       " 'linknews': 'https://mars.nasa.gov//news/8364/martian-skies-clearing-over-opportunity-rover/',\n",
       " 'Marslatestimagelink': 'https://www.jpl.nasa.gov/spaceimages/images/largesize/PIA22671_hires.jpg',\n",
       " 'weatherinfo': 'Sol 2155 (2018-08-29), high -12C/10F, low -76C/-104F, pressure at 8.78 hPa, daylight 05:34-17:49',\n",
       " 'marsfact': '<table border=\"1\" class=\"dataframe\">  <thead>    <tr style=\"text-align: right;\">      <th></th>      <th>Value</th>    </tr>    <tr>      <th>Description</th>      <th></th>    </tr>  </thead>  <tbody>    <tr>      <th>Equatorial Diameter:</th>      <td>6,792 km</td>    </tr>    <tr>      <th>Polar Diameter:</th>      <td>6,752 km</td>    </tr>    <tr>      <th>Mass:</th>      <td>6.42 x 10^23 kg (10.7% Earth)</td>    </tr>    <tr>      <th>Moons:</th>      <td>2 (Phobos &amp; Deimos)</td>    </tr>    <tr>      <th>Orbit Distance:</th>      <td>227,943,824 km (1.52 AU)</td>    </tr>    <tr>      <th>Orbit Period:</th>      <td>687 days (1.9 years)</td>    </tr>    <tr>      <th>Surface Temperature:</th>      <td>-153 to 20 °C</td>    </tr>    <tr>      <th>First Record:</th>      <td>2nd millennium BC</td>    </tr>    <tr>      <th>Recorded By:</th>      <td>Egyptian astronomers</td>    </tr>  </tbody></table>',\n",
       " 'link': ['https://astrogeology.usgs.gov/search/map/Mars/Viking/cerberus_enhanced',\n",
       "  'https://astrogeology.usgs.gov/search/map/Mars/Viking/schiaparelli_enhanced',\n",
       "  'https://astrogeology.usgs.gov/search/map/Mars/Viking/syrtis_major_enhanced',\n",
       "  'https://astrogeology.usgs.gov/search/map/Mars/Viking/valles_marineris_enhanced'],\n",
       " 'marshemisphereimage': [{'title': 'Cerberus Hemisphere Enhanced',\n",
       "   'img_url': 'http://astropedia.astrogeology.usgs.gov/download/Mars/Viking/cerberus_enhanced.tif/full.jpg'},\n",
       "  {'title': 'Schiaparelli Hemisphere Enhanced',\n",
       "   'img_url': 'http://astropedia.astrogeology.usgs.gov/download/Mars/Viking/schiaparelli_enhanced.tif/full.jpg'},\n",
       "  {'title': 'Syrtis Major Hemisphere Enhanced',\n",
       "   'img_url': 'http://astropedia.astrogeology.usgs.gov/download/Mars/Viking/syrtis_major_enhanced.tif/full.jpg'},\n",
       "  {'title': 'Valles Marineris Hemisphere Enhanced',\n",
       "   'img_url': 'http://astropedia.astrogeology.usgs.gov/download/Mars/Viking/valles_marineris_enhanced.tif/full.jpg'}]}"
      ]
     },
     "execution_count": 5,
     "metadata": {},
     "output_type": "execute_result"
    }
   ],
   "source": [
    " scrape()"
   ]
  },
  {
   "cell_type": "code",
   "execution_count": null,
   "metadata": {},
   "outputs": [],
   "source": []
  }
 ],
 "metadata": {
  "kernelspec": {
   "display_name": "Python 3",
   "language": "python",
   "name": "python3"
  },
  "language_info": {
   "codemirror_mode": {
    "name": "ipython",
    "version": 3
   },
   "file_extension": ".py",
   "mimetype": "text/x-python",
   "name": "python",
   "nbconvert_exporter": "python",
   "pygments_lexer": "ipython3",
   "version": "3.6.5"
  }
 },
 "nbformat": 4,
 "nbformat_minor": 2
}
